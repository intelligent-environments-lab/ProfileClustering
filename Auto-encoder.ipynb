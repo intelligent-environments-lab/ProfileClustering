{
 "cells": [
  {
   "cell_type": "code",
   "execution_count": 1,
   "metadata": {
    "collapsed": false
   },
   "outputs": [
    {
     "name": "stderr",
     "output_type": "stream",
     "text": [
      "Using TensorFlow backend.\n"
     ]
    }
   ],
   "source": [
    "# Import modules\n",
    "%matplotlib inline\n",
    "import math\n",
    "import numpy as np\n",
    "import pandas as pd\n",
    "from scipy.special import expit\n",
    "from matplotlib import pyplot as plt\n",
    "from sklearn.preprocessing import OneHotEncoder\n",
    "from sklearn.preprocessing import MinMaxScaler\n",
    "import sys\n",
    "import pandas as pd\n",
    "\n",
    "import keras\n",
    "from keras.models import Sequential\n",
    "from keras.layers import Dense, Dropout\n",
    "from keras.optimizers import RMSprop\n",
    "\n",
    "from sklearn.preprocessing import MinMaxScaler\n",
    "\n",
    "from sklearn.cluster import KMeans"
   ]
  },
  {
   "cell_type": "code",
   "execution_count": 9,
   "metadata": {
    "collapsed": false
   },
   "outputs": [],
   "source": [
    "def initialize_weights(input_matrix, label_matrix, hidden_layer_stats=None, scaled_by = None):\n",
    "    '''\n",
    "    hidden_layer_stats = <List of layer dimensions>\n",
    "    '''\n",
    "    if not scaled_by:\n",
    "        scaled_by = math.sqrt(2. / input_matrix.shape[0])\n",
    "    input_n = input_matrix.shape[1]\n",
    "    output_n = label_matrix.shape[1]\n",
    "    if not hidden_layer_stats or not len(hidden_layer_stats):\n",
    "        return [(np.random.rand(input_n+1, output_n) - .5) * scaled_by]\n",
    "    else:\n",
    "        weights = []\n",
    "        weights.append((np.random.rand(input_n+1, hidden_layer_stats[0]) - .5) * scaled_by)\n",
    "        for i in range(len(hidden_layer_stats) - 1):\n",
    "            now_dim = hidden_layer_stats[i]\n",
    "            next_dim = hidden_layer_stats[i+1]\n",
    "            weights.append((np.random.rand(now_dim+1, next_dim) - .5) * scaled_by)\n",
    "        weights.append((np.random.rand(hidden_layer_stats[-1]+1, output_n) - .5) * scaled_by)\n",
    "        return weights\n",
    "\n",
    "def net(weight_matrix, prev_matrix):\n",
    "    return prev_matrix.dot(weight_matrix)\n",
    "\n",
    "# sigmoid\n",
    "def output_activation(net_matrix):\n",
    "    return expit(net_matrix)\n",
    "\n",
    "# relu\n",
    "def activation(net_matrix):\n",
    "    return expit(net_matrix)\n",
    "    net_matrix[net_matrix < 0] = 0\n",
    "    return net_matrix\n",
    "\n",
    "# propagate once to set up value_matrices\n",
    "def forward_propagate_once(input_matrix, weights, value_matrices):\n",
    "    del value_matrices[:]\n",
    "    prev_matrix = input_matrix\n",
    "    prev_matrix = np.concatenate((prev_matrix, np.ones_like(prev_matrix[:, -1]).reshape(-1,1)), axis=1)\n",
    "    value_matrices.append(prev_matrix)\n",
    "    \n",
    "    # propagate using given activation function in the hidden layers\n",
    "    for i in range(len(weights)-1):\n",
    "        prev_matrix = activation(net(weights[i], prev_matrix))\n",
    "        prev_matrix = np.concatenate((prev_matrix, np.ones_like(prev_matrix[:, -1]).reshape(-1,1)), axis=1)\n",
    "        value_matrices.append(prev_matrix)\n",
    "    \n",
    "    # propagate using output activation function for output\n",
    "    prev_matrix = output_activation(net(weights[-1], prev_matrix))\n",
    "    value_matrices.append(prev_matrix)\n",
    "\n",
    "# forward propagate updates\n",
    "def forward_propagate(weights, value_matrices):\n",
    "    for i in range(len(weights)-1):\n",
    "        value_matrices[i+1][:, :-1] = activation(net(weights[i], value_matrices[i]))\n",
    "    value_matrices[-1] = output_activation(net(weights[-1], value_matrices[-2]))\n",
    "\n",
    "# forward propagate to generate output matrix\n",
    "def forward_propagate_output(weights, input_matrix):\n",
    "    output_matrix = np.concatenate((input_matrix, np.ones_like(input_matrix[:, -1]).reshape(-1,1)), axis=1)\n",
    "    for i in range(len(weights)-1):\n",
    "        output_matrix = activation(net(weights[i], output_matrix))\n",
    "        output_matrix = np.concatenate((output_matrix, np.ones_like(output_matrix[:, -1]).reshape(-1,1)), axis=1)\n",
    "    output_matrix = output_activation(net(weights[-1], output_matrix))\n",
    "    return output_matrix\n",
    "\n",
    "def forward_propagate_layer(weights, input_matrix, layer):\n",
    "    '''layer: hidden layer number (0-based)'''\n",
    "    output_matrix = np.concatenate((input_matrix, np.ones_like(input_matrix[:, -1]).reshape(-1,1)), axis=1)\n",
    "    for i in range(layer):\n",
    "        output_matrix = activation(net(weights[i], output_matrix))\n",
    "        output_matrix = np.concatenate((output_matrix, np.ones_like(output_matrix[:, -1]).reshape(-1,1)), axis=1)\n",
    "    output_matrix = activation(net(weights[layer], output_matrix))\n",
    "    return output_matrix\n",
    "\n",
    "def cost(value_matrices, weights, label_matrix, n_records, regularization_lambda, name='mse'):\n",
    "    reg_term = sum([(w**2).sum() for w in weights]) / (2*n_records)\n",
    "    if name == 'mse':\n",
    "        return ((value_matrices[-1] - label_matrix)**2).sum() / (2*n_records) + regularization_lambda*reg_term\n",
    "    if name == 'entropy':\n",
    "        return (-label_matrix * np.log(value_matrices[-1]) - (1-label_matrix) * np.log(1-value_matrices[-1])).sum() / n_records + regularization_lambda*reg_term\n",
    "    raise Exception('cost function %s not supported' %name)\n",
    "\n",
    "def backprop_update_weights(value_matrices, weights, label_matrix, n_records, learning_rate, regularization_lambda):\n",
    "    '''output: sigmoid; hidden layers: relu; cost: mse'''\n",
    "    delta = (value_matrices[-1] - label_matrix) * value_matrices[-1] * (1-value_matrices[-1])\n",
    "    step = learning_rate * (delta.T.dot(value_matrices[-2]) / n_records).T\n",
    "    \n",
    "    if len(weights) > 1:\n",
    "        delta = delta.dot(weights[-1].T) * value_matrices[-2] * (1 - value_matrices[-2])\n",
    "        weights[-1][:-1, :] -= step[:-1, :] + regularization_lambda / n_records * weights[-1][:-1, :]\n",
    "        step = learning_rate * (delta[:, :-1].T.dot(value_matrices[-3]) / n_records).T\n",
    "    \n",
    "    for i in range(len(weights)-2, 0, -1):\n",
    "        delta = delta[:, :-1].dot(weights[i].T) * value_matrices[i] * (1 - value_matrices[i])\n",
    "        weights[i][:-1, :] -= step[:-1, :] + regularization_lambda / n_records * weights[i][:-1, :]\n",
    "        step = learning_rate * (delta[:, :-1].T.dot(value_matrices[i-1]) / n_records).T\n",
    "    \n",
    "    weights[0][:-1, :] -= step[:-1, :] + regularization_lambda / n_records * weights[0][:-1, :]\n",
    "\n",
    "def cluster_backprop_update_weights(value_matrices, weights, label_matrix, n_records, learning_rate, regularization_lambda, code_layer_idx, centers, cluster_param=1):\n",
    "    '''output: sigmoid; hidden layers: relu; cost: mse'''\n",
    "    delta = (value_matrices[-1] - label_matrix) * value_matrices[-1] * (1-value_matrices[-1])\n",
    "    step = learning_rate * (delta.T.dot(value_matrices[-2]) / n_records).T\n",
    "    \n",
    "    if len(weights) > 1:\n",
    "        delta = delta.dot(weights[-1].T) * value_matrices[-2] * (1 - value_matrices[-2])\n",
    "        weights[-1][:-1, :] -= step[:-1, :] + regularization_lambda / n_records * weights[-1][:-1, :]\n",
    "        if code_layer_idx == len(value_matrices) - 2:\n",
    "            raise Exception('Not supported.')\n",
    "            delta += (value_matrices[-2] - centers) * value_matrices[-2] * (1 - value_matrices[-2])\n",
    "        step = learning_rate * (delta[:, :-1].T.dot(value_matrices[-3]) / n_records).T\n",
    "    \n",
    "    for i in range(len(weights)-2, 0, -1):\n",
    "        delta = delta[:, :-1].dot(weights[i].T) * value_matrices[i] * (1 - value_matrices[i])\n",
    "        weights[i][:-1, :] -= step[:-1, :] + regularization_lambda / n_records * weights[i][:-1, :]\n",
    "        if code_layer_idx == i:\n",
    "            delta += cluster_param * (value_matrices[i] - centers) * value_matrices[i] * (1 - value_matrices[i]) * 10\n",
    "        step = learning_rate * (delta[:, :-1].T.dot(value_matrices[i-1]) / n_records).T\n",
    "    \n",
    "    weights[0][:-1, :] -= step[:-1, :] + regularization_lambda / n_records * weights[0][:-1, :]\n",
    "\n",
    "def grad_check(i, j, k, input_matrix, label_matrix, weights, n_records, regularization_lambda, h=1e-6):\n",
    "    value_matrices = []\n",
    "    forward_propagate_once(input_matrix, weights, value_matrices)\n",
    "    \n",
    "    # numerical gradient for weight_jk in ith layer\n",
    "    perturbed_weights = ([w.copy() for w in weights], [w.copy() for w in weights])\n",
    "    value_matrices_copies = ([m.copy() for m in value_matrices], [m.copy() for m in value_matrices])\n",
    "    perturbed_weights[0][i][j, k] -= h\n",
    "    perturbed_weights[1][i][j, k] += h\n",
    "    forward_propagate(perturbed_weights[0], value_matrices_copies[0])\n",
    "    forward_propagate(perturbed_weights[1], value_matrices_copies[1])\n",
    "    cost_diff = cost(value_matrices_copies[1], weights, label_matrix, n_records, regularization_lambda) - cost(value_matrices_copies[0], weights, label_matrix, n_records, regularization_lambda)\n",
    "    numerical_grad = cost_diff / (2*h)\n",
    "    weights_copy = [w.copy() for w in weights]\n",
    "    weight_before = weights_copy[i][j, k]\n",
    "    backprop_update_weights(value_matrices, weights_copy, label_matrix, n_records, 1, regularization_lambda)\n",
    "    weight_after = weights_copy[i][j, k]\n",
    "    print('The gradient in backpropagation is %.16f\\nThe numerical gradient is %.16f\\nThe difference is %.16f' % (weight_before-weight_after, numerical_grad, (weight_before-weight_after)-numerical_grad))\n",
    "\n",
    "def print_info(fit_info, i, j):\n",
    "    if abs(fit_info['prev_cost'] - fit_info['now_cost']) < fit_info['threshold']:\n",
    "        print('Neural network weights have converged after %d iterations.' % (i+1))\n",
    "        return 0\n",
    "    if not fit_info['mute']:\n",
    "        if j is None:\n",
    "            print('\\r', 'Step %d: Cost=%f, Delta Cost=%f' % (i+1, fit_info['now_cost'], abs(fit_info['prev_cost'] - fit_info['now_cost'])), end='')\n",
    "        else:\n",
    "            print('\\r', 'Epoch %d (Batch %d): Cost=%f, Delta Cost=%f' % (i+1, j+1, fit_info['now_cost'], abs(fit_info['prev_cost'] - fit_info['now_cost'])), end='')\n",
    "    fit_info['prev_cost'] = fit_info['now_cost']\n",
    "\n",
    "def fit_step(weights, value_matrices, label_matrix, fit_info, i, j=None):\n",
    "    forward_propagate(weights, value_matrices)\n",
    "    backprop_update_weights(value_matrices, weights, label_matrix, label_matrix.shape[0], fit_info['learning_rate'], fit_info['regularization_lambda'])\n",
    "    fit_info['now_cost'] = cost(value_matrices, weights, label_matrix, fit_info['n_records'], fit_info['regularization_lambda'])\n",
    "    print_info(fit_info, i, j)\n",
    "\n",
    "def cluster_fit_step(code_layer_idx, centers, idx_range, weights, value_matrices, label_matrix, fit_info, i, j, cluster_param):\n",
    "    forward_propagate(weights, value_matrices)\n",
    "    \n",
    "    ### backprop step ###\n",
    "    code_layer = value_matrices[code_layer_idx]\n",
    "    closest_idx = closest_centers_idx(code_layer, centers)\n",
    "    cluster_backprop_update_weights(value_matrices, weights, label_matrix, label_matrix.shape[0], fit_info['learning_rate'], fit_info['regularization_lambda'], code_layer_idx, centers[closest_idx, :], cluster_param)\n",
    "    fit_info['now_cost'] = cost(value_matrices, weights, label_matrix, fit_info['n_records'], fit_info['regularization_lambda'])\n",
    "    print_info(fit_info, i, j)\n",
    "\n",
    "def trainNN(input_matrix, label_matrix, weights, centers, code_layer_idx, max_itr=10000, threshold=1e-6, learning_rate=.1, regularization_lambda = .1, mute=True, minibatch=True, cluster_param=1):\n",
    "    '''Update weights in-place'''\n",
    "    N0 = N = input_matrix.shape[0]\n",
    "    value_matrices = value_matrices_full_data = []\n",
    "    if minibatch:\n",
    "        N = min(100, N)\n",
    "        forward_propagate_once(input_matrix, weights, value_matrices_full_data) # for use in minibatch clustering\n",
    "    forward_propagate_once(input_matrix[:N, :], weights, value_matrices)\n",
    "\n",
    "    fit_info = {\n",
    "        'prev_cost': cost(value_matrices, weights, label_matrix[:N, :], N, regularization_lambda),\n",
    "        'now_cost': None,\n",
    "        'N0': N0,\n",
    "        'n_records': N,\n",
    "        'learning_rate': learning_rate,\n",
    "        'regularization_lambda': regularization_lambda,\n",
    "        'mute': mute,\n",
    "        'threshold': threshold\n",
    "    }\n",
    "    \n",
    "    # for clustering\n",
    "    n_clusters = centers.shape[0]\n",
    "    centers[:, ] = value_matrices[code_layer_idx][np.random.choice(N, n_clusters, replace=False), :]\n",
    "    idx_range = np.arange(n_clusters)\n",
    "\n",
    "    for i in range(max_itr):\n",
    "        np.random.seed(i)\n",
    "        rd_idx = np.random.permutation(range(input_matrix.shape[0]))\n",
    "        input_matrix = input_matrix[rd_idx, :]\n",
    "        label_matrix = label_matrix[rd_idx, :]\n",
    "        \n",
    "        if minibatch and N0 > N:\n",
    "            '''Use only multiples of N records (leave the last remaining records out of training for each epoch)'''\n",
    "            iter_i=0\n",
    "\n",
    "            forward_propagate(weights, value_matrices_full_data)\n",
    "\n",
    "            ### K-Means step ###\n",
    "            code_layer = value_matrices_full_data[code_layer_idx]\n",
    "            # assignment\n",
    "            closest_idx = closest_centers_idx(code_layer, centers)\n",
    "            # compute centers\n",
    "            compute_centers(code_layer, closest_idx, idx_range, centers)\n",
    "            \n",
    "            while (iter_i+1)*N<N0:\n",
    "                value_matrices[0][:, :-1] = input_matrix[iter_i*N:(iter_i+1)*N, :]\n",
    "                cluster_fit_step(code_layer_idx, centers, idx_range, weights, value_matrices, label_matrix[iter_i*N:(iter_i+1)*N, :], fit_info, i, iter_i, cluster_param)\n",
    "                iter_i+=1\n",
    "            print()\n",
    "        else:\n",
    "            forward_propagate_once(input_matrix, weights, value_matrices)\n",
    "            if not fit_info['prev_cost']:\n",
    "                fit_info['prev_cost'] = cost(value_matrices, weights, label_matrix, N0, regularization_lambda)\n",
    "            cluster_fit_step(code_layer_idx, centers, idx_range, weights, value_matrices, label_matrix, fit_info, i)\n",
    "            print()\n",
    "    print('\\n%d iterations of training completed.' % max_itr)\n",
    "    return 1"
   ]
  },
  {
   "cell_type": "code",
   "execution_count": 3,
   "metadata": {
    "collapsed": true
   },
   "outputs": [],
   "source": [
    "def closest_centers_idx(data, centers):\n",
    "    '''\n",
    "    find the closest center for each record in the data by euclidean distance\n",
    "    n_clusters: centers.shape[0]\n",
    "    \n",
    "    axis 0: record\n",
    "    axis 1: n_cluster copies\n",
    "    axis 2: features (columns)\n",
    "    '''\n",
    "    rep_data = np.swapaxes(np.broadcast_to(data, (centers.shape[0],) + data.shape), 0, 1)\n",
    "    sum_of_squares = ((rep_data - centers) ** 2).sum(axis=2)\n",
    "    idx = np.argmin(sum_of_squares, axis = 1)\n",
    "    # return centers[idx, :]\n",
    "    return idx"
   ]
  },
  {
   "cell_type": "code",
   "execution_count": 4,
   "metadata": {
    "collapsed": false
   },
   "outputs": [],
   "source": [
    "def compute_centers(data, idx, idx_range, centers):\n",
    "    '''After weights are updated'''\n",
    "    idx_reps = np.swapaxes(np.broadcast_to(idx, idx_range.shape + idx.shape), 0, 1)\n",
    "    data_reps = np.swapaxes(np.broadcast_to(data, idx_range.shape + data.shape), 0, 2)\n",
    "    tf = idx_reps == idx_range\n",
    "    centroid_sums = np.swapaxes(data_reps * tf, 0, 2).sum(axis=1)\n",
    "    divisor = tf.sum(axis=0)\n",
    "    to_assign = centroid_sums[divisor>0, :] / divisor[divisor>0].reshape(-1, 1)\n",
    "    if (to_assign.shape[0] - centers.shape[0] == 0):\n",
    "        centers[:, :] = to_assign\n",
    "    else:\n",
    "        pass\n",
    "        # if some centers disappear, do not change centers"
   ]
  },
  {
   "cell_type": "markdown",
   "metadata": {},
   "source": [
    "### MNIST test"
   ]
  },
  {
   "cell_type": "code",
   "execution_count": 7,
   "metadata": {
    "collapsed": false
   },
   "outputs": [],
   "source": [
    "from mnist import MNIST\n",
    "enc = OneHotEncoder(sparse=False)\n",
    "\n",
    "mndata = MNIST('./MNIST')\n",
    "train_X_0, train_y_0 = mndata.load_training()\n",
    "train_pixels = np.array([np.array(pixels).reshape(28, 28) for pixels in train_X_0])\n",
    "\n",
    "test_X_0, test_y_0 = mndata.load_testing()\n",
    "test_pixels = np.array([np.array(pixels).reshape(28, 28) for pixels in test_X_0])\n",
    "\n",
    "train_X = np.array(train_X_0)\n",
    "enc.fit(np.array(train_y_0).reshape(-1, 1))\n",
    "train_y = enc.transform(np.array(train_y_0).reshape(-1, 1))\n",
    "\n",
    "test_X = np.array(test_X_0)\n",
    "test_y = enc.transform(np.array(test_y_0).reshape(-1, 1))\n",
    "\n",
    "def show_digit(pixels, idx):\n",
    "    plt.imshow(pixels[idx], cmap='gray')\n",
    "    plt.show()"
   ]
  },
  {
   "cell_type": "code",
   "execution_count": 8,
   "metadata": {
    "collapsed": true
   },
   "outputs": [],
   "source": [
    "def get_train_test_acc():\n",
    "    print('Train accuracy: %.4f' % (sum(map(lambda x: x[0] == x[1], zip(forward_propagate_predict(weights, train_X_scaled).tolist(), train_y_0))) / len(train_y_0)))\n",
    "    print('Testing accuracy: %.4f' % (sum(map(lambda x: x[0] == x[1], zip(forward_propagate_predict(weights, test_X_scaled).tolist(), test_y_0))) / len(test_y_0)))"
   ]
  },
  {
   "cell_type": "code",
   "execution_count": 16,
   "metadata": {
    "collapsed": false
   },
   "outputs": [],
   "source": [
    "train_X = train_X.astype(np.float32)\n",
    "test_X = test_X.astype(np.float32)\n",
    "\n",
    "scaler = MinMaxScaler()\n",
    "scaler.fit(train_X)\n",
    "train_X_scaled = scaler.transform(train_X)\n",
    "test_X_scaled = scaler.transform(test_X)\n",
    "\n",
    "weights = initialize_weights(train_X_scaled, train_X_scaled, scaled_by=1, hidden_layer_stats = (50, 10, 50))\n",
    "centers = np.zeros((10, 11))"
   ]
  },
  {
   "cell_type": "code",
   "execution_count": 26,
   "metadata": {
    "collapsed": false
   },
   "outputs": [
    {
     "name": "stdout",
     "output_type": "stream",
     "text": [
      " Epoch 1 (Batch 599): Cost=20.409125, Delta Cost=0.389347\n",
      " Epoch 2 (Batch 599): Cost=21.092810, Delta Cost=1.482961\n",
      " Epoch 3 (Batch 599): Cost=21.061871, Delta Cost=1.301125\n",
      " Epoch 4 (Batch 599): Cost=20.578590, Delta Cost=1.271523\n",
      " Epoch 5 (Batch 599): Cost=19.631238, Delta Cost=0.239660\n",
      " Epoch 6 (Batch 599): Cost=19.744847, Delta Cost=0.659516\n",
      " Epoch 7 (Batch 599): Cost=20.082922, Delta Cost=1.252547\n",
      " Epoch 8 (Batch 599): Cost=19.349616, Delta Cost=0.875068\n",
      " Epoch 9 (Batch 599): Cost=18.920134, Delta Cost=0.382335\n",
      " Epoch 10 (Batch 599): Cost=18.456595, Delta Cost=0.494541\n",
      " Epoch 11 (Batch 599): Cost=18.410915, Delta Cost=0.529094\n",
      " Epoch 12 (Batch 599): Cost=17.872065, Delta Cost=0.249342\n",
      " Epoch 13 (Batch 599): Cost=16.935683, Delta Cost=0.325529\n",
      " Epoch 14 (Batch 599): Cost=15.764326, Delta Cost=1.677517\n",
      " Epoch 15 (Batch 599): Cost=17.028347, Delta Cost=0.121758\n",
      " Epoch 16 (Batch 599): Cost=16.396213, Delta Cost=0.470920\n",
      " Epoch 17 (Batch 599): Cost=15.113335, Delta Cost=1.109303\n",
      " Epoch 18 (Batch 599): Cost=16.129433, Delta Cost=0.134323\n",
      " Epoch 19 (Batch 599): Cost=15.834271, Delta Cost=0.051024\n",
      " Epoch 20 (Batch 599): Cost=17.021459, Delta Cost=1.147980\n",
      " Epoch 21 (Batch 599): Cost=17.064546, Delta Cost=1.436927\n",
      " Epoch 22 (Batch 599): Cost=16.091058, Delta Cost=1.398763\n",
      " Epoch 23 (Batch 599): Cost=15.364152, Delta Cost=0.310883\n",
      " Epoch 24 (Batch 599): Cost=15.141103, Delta Cost=0.916177\n",
      " Epoch 25 (Batch 599): Cost=15.854030, Delta Cost=0.082894\n",
      " Epoch 26 (Batch 599): Cost=15.656275, Delta Cost=0.026007\n",
      " Epoch 27 (Batch 599): Cost=15.033845, Delta Cost=0.302934\n",
      " Epoch 28 (Batch 599): Cost=14.846133, Delta Cost=0.169052\n",
      " Epoch 29 (Batch 599): Cost=15.633037, Delta Cost=0.936151\n",
      " Epoch 30 (Batch 599): Cost=15.877019, Delta Cost=1.123975\n",
      " Epoch 31 (Batch 599): Cost=15.186570, Delta Cost=0.412432\n",
      " Epoch 32 (Batch 599): Cost=14.926334, Delta Cost=0.046625\n",
      " Epoch 33 (Batch 599): Cost=15.114618, Delta Cost=1.250194\n",
      " Epoch 34 (Batch 599): Cost=14.503407, Delta Cost=0.098851\n",
      " Epoch 35 (Batch 599): Cost=14.335582, Delta Cost=0.599943\n",
      " Epoch 36 (Batch 599): Cost=14.879296, Delta Cost=0.794913\n",
      " Epoch 37 (Batch 599): Cost=14.746609, Delta Cost=0.511412\n",
      " Epoch 38 (Batch 599): Cost=14.699492, Delta Cost=1.518496\n",
      " Epoch 39 (Batch 599): Cost=14.415193, Delta Cost=0.226000\n",
      " Epoch 40 (Batch 599): Cost=13.995736, Delta Cost=0.088489\n",
      " Epoch 41 (Batch 599): Cost=14.574405, Delta Cost=0.214171\n",
      " Epoch 42 (Batch 599): Cost=14.895430, Delta Cost=0.719554\n",
      " Epoch 43 (Batch 599): Cost=13.222278, Delta Cost=0.826150\n",
      " Epoch 44 (Batch 599): Cost=14.221468, Delta Cost=0.457371\n",
      " Epoch 45 (Batch 599): Cost=13.979040, Delta Cost=0.073704\n",
      " Epoch 46 (Batch 599): Cost=13.329435, Delta Cost=0.934852\n",
      " Epoch 47 (Batch 599): Cost=15.795859, Delta Cost=1.785328\n",
      " Epoch 48 (Batch 599): Cost=14.372630, Delta Cost=0.919389\n",
      " Epoch 49 (Batch 599): Cost=13.539524, Delta Cost=1.332544\n",
      " Epoch 50 (Batch 599): Cost=13.519469, Delta Cost=0.544289\n",
      " Epoch 51 (Batch 599): Cost=13.128522, Delta Cost=0.677931\n",
      " Epoch 52 (Batch 599): Cost=13.915398, Delta Cost=0.478804\n",
      " Epoch 53 (Batch 599): Cost=13.400063, Delta Cost=0.886303\n",
      " Epoch 54 (Batch 599): Cost=13.989536, Delta Cost=0.719231\n",
      " Epoch 55 (Batch 599): Cost=13.499654, Delta Cost=0.252148\n",
      " Epoch 56 (Batch 599): Cost=14.993971, Delta Cost=1.486016\n",
      " Epoch 57 (Batch 599): Cost=13.744052, Delta Cost=0.608595\n",
      " Epoch 58 (Batch 599): Cost=13.570521, Delta Cost=0.748226\n",
      " Epoch 59 (Batch 599): Cost=14.012643, Delta Cost=0.020800\n",
      " Epoch 60 (Batch 599): Cost=13.518302, Delta Cost=0.100477\n",
      " Epoch 61 (Batch 599): Cost=14.046323, Delta Cost=1.118706\n",
      " Epoch 62 (Batch 599): Cost=13.020039, Delta Cost=1.408578\n",
      " Epoch 63 (Batch 599): Cost=12.857206, Delta Cost=0.307414\n",
      " Epoch 64 (Batch 599): Cost=13.695028, Delta Cost=0.121307\n",
      " Epoch 65 (Batch 599): Cost=13.262639, Delta Cost=0.813690\n",
      " Epoch 66 (Batch 599): Cost=14.445754, Delta Cost=0.846777\n",
      " Epoch 67 (Batch 599): Cost=13.278308, Delta Cost=0.233752\n",
      " Epoch 68 (Batch 599): Cost=13.445450, Delta Cost=0.822518\n",
      " Epoch 69 (Batch 599): Cost=14.839588, Delta Cost=0.687535\n",
      " Epoch 70 (Batch 599): Cost=13.273134, Delta Cost=0.203907\n",
      " Epoch 71 (Batch 599): Cost=13.631525, Delta Cost=0.452175\n",
      " Epoch 72 (Batch 599): Cost=13.342808, Delta Cost=0.122673\n",
      " Epoch 73 (Batch 599): Cost=13.318068, Delta Cost=1.063309\n",
      " Epoch 74 (Batch 599): Cost=12.685169, Delta Cost=1.006183\n",
      " Epoch 75 (Batch 599): Cost=13.216577, Delta Cost=0.005490\n",
      " Epoch 76 (Batch 599): Cost=13.576401, Delta Cost=0.573131\n",
      " Epoch 77 (Batch 599): Cost=13.097637, Delta Cost=0.008949\n",
      " Epoch 78 (Batch 599): Cost=13.109629, Delta Cost=0.491182\n",
      " Epoch 79 (Batch 599): Cost=13.284492, Delta Cost=0.519500\n",
      " Epoch 80 (Batch 599): Cost=13.620169, Delta Cost=0.813785\n",
      " Epoch 81 (Batch 599): Cost=13.495512, Delta Cost=0.083118\n",
      " Epoch 82 (Batch 599): Cost=12.730898, Delta Cost=0.629398\n",
      " Epoch 83 (Batch 599): Cost=13.066133, Delta Cost=0.214795\n",
      " Epoch 84 (Batch 599): Cost=12.586232, Delta Cost=1.415176\n",
      " Epoch 85 (Batch 599): Cost=13.383033, Delta Cost=0.503894\n",
      " Epoch 86 (Batch 599): Cost=12.357585, Delta Cost=1.054501\n",
      " Epoch 87 (Batch 599): Cost=13.349297, Delta Cost=0.309844\n",
      " Epoch 88 (Batch 599): Cost=13.397311, Delta Cost=0.261305\n",
      " Epoch 89 (Batch 599): Cost=13.719596, Delta Cost=0.775290\n",
      " Epoch 90 (Batch 599): Cost=13.300046, Delta Cost=0.301783\n",
      " Epoch 91 (Batch 599): Cost=13.361993, Delta Cost=0.273918\n",
      " Epoch 92 (Batch 599): Cost=12.999299, Delta Cost=0.051045\n",
      " Epoch 93 (Batch 599): Cost=14.002137, Delta Cost=0.224308\n",
      " Epoch 94 (Batch 599): Cost=13.220012, Delta Cost=0.385723\n",
      " Epoch 95 (Batch 599): Cost=13.915924, Delta Cost=0.558604\n",
      " Epoch 96 (Batch 599): Cost=12.799697, Delta Cost=0.421849\n",
      " Epoch 97 (Batch 599): Cost=11.868314, Delta Cost=1.228958\n",
      " Epoch 98 (Batch 599): Cost=12.760640, Delta Cost=0.492364\n",
      " Epoch 99 (Batch 599): Cost=12.107809, Delta Cost=1.292917\n",
      " Epoch 100 (Batch 599): Cost=13.120432, Delta Cost=0.055331\n",
      "\n",
      "100 iterations of training completed.\n",
      "Time: 302.2340\n"
     ]
    }
   ],
   "source": [
    "from time import time\n",
    "start = time()\n",
    "trainNN(train_X_scaled, train_X_scaled, weights, centers, 2, mute=False, max_itr=100, learning_rate=.1, regularization_lambda=.01, threshold=1e-16, minibatch=True, cluster_param=1)\n",
    "print('Time: %.4f' % (time() - start))"
   ]
  },
  {
   "cell_type": "markdown",
   "metadata": {},
   "source": [
    "* Gradient check for correctness of backpropagation"
   ]
  },
  {
   "cell_type": "code",
   "execution_count": 21,
   "metadata": {
    "collapsed": false
   },
   "outputs": [
    {
     "name": "stdout",
     "output_type": "stream",
     "text": [
      "The gradient in backpropagation is -0.0019537438667466\n",
      "The numerical gradient is -0.0019538841655731\n",
      "The difference is 0.0000001402988264\n"
     ]
    }
   ],
   "source": [
    "grad_check(2, 0, 32, train_X_scaled, train_X_scaled, weights, 60000, .01, h=1e-6)"
   ]
  },
  {
   "cell_type": "code",
   "execution_count": 12,
   "metadata": {
    "collapsed": false
   },
   "outputs": [],
   "source": [
    "# Random image\n",
    "def predict_random(test_X_scaled, test_pixels):\n",
    "    idx = np.random.choice(test_X_scaled.shape[0], 1)[0]\n",
    "    out_mat = forward_propagate_output(weights, test_X_scaled[[idx], :])[0]\n",
    "    show_digit(test_pixels, idx)\n",
    "    plt.imshow(out_mat.reshape(28, 28), cmap='gray')\n",
    "    plt.show()"
   ]
  },
  {
   "cell_type": "code",
   "execution_count": 29,
   "metadata": {
    "collapsed": false
   },
   "outputs": [
    {
     "data": {
      "image/png": "[encoded data removed]",
      "text/plain": [
       "<matplotlib.figure.Figure at 0x11a479b00>"
      ]
     },
     "metadata": {},
     "output_type": "display_data"
    },
    {
     "data": {
      "image/png": "[encoded data removed]",
      "text/plain": [
       "<matplotlib.figure.Figure at 0x11a499390>"
      ]
     },
     "metadata": {},
     "output_type": "display_data"
    }
   ],
   "source": [
    "predict_random(test_X_scaled, test_pixels)"
   ]
  },
  {
   "cell_type": "code",
   "execution_count": 845,
   "metadata": {
    "collapsed": false,
    "scrolled": true
   },
   "outputs": [
    {
     "data": {
      "text/plain": [
       "KMeans(algorithm='auto', copy_x=True, init='k-means++', max_iter=300,\n",
       "    n_clusters=10, n_init=10, n_jobs=1, precompute_distances='auto',\n",
       "    random_state=None, tol=0.0001, verbose=0)"
      ]
     },
     "execution_count": 845,
     "metadata": {},
     "output_type": "execute_result"
    }
   ],
   "source": [
    "from sklearn.cluster import KMeans\n",
    "kmeans_model = KMeans(n_clusters=10)\n",
    "kmeans_model.fit(train_X_scaled)"
   ]
  },
  {
   "cell_type": "code",
   "execution_count": 867,
   "metadata": {
    "collapsed": false
   },
   "outputs": [
    {
     "data": {
      "text/plain": [
       "KMeans(algorithm='auto', copy_x=True, init='k-means++', max_iter=300,\n",
       "    n_clusters=10, n_init=10, n_jobs=1, precompute_distances='auto',\n",
       "    random_state=None, tol=0.0001, verbose=0)"
      ]
     },
     "execution_count": 867,
     "metadata": {},
     "output_type": "execute_result"
    }
   ],
   "source": [
    "hidden_kmeans = KMeans(n_clusters=10)\n",
    "hidden_kmeans.fit(forward_propagate_layer(weights, train_X_scaled, 3))"
   ]
  },
  {
   "cell_type": "code",
   "execution_count": 847,
   "metadata": {
    "collapsed": false,
    "scrolled": false
   },
   "outputs": [],
   "source": [
    "def get_eval(kmeans_model):\n",
    "    from math import log2\n",
    "\n",
    "    def calc_entropy(val_counts):\n",
    "        res = 0\n",
    "        n = val_counts.sum()\n",
    "        for v in val_counts:\n",
    "            res += -v/n * log2(v/n)\n",
    "        return res\n",
    "\n",
    "    raw_labels = kmeans_model.labels_\n",
    "    avg_entropy = 0\n",
    "    for i in range(10):\n",
    "        val_counts = pd.Series(train_y_0)[raw_labels == i].value_counts()\n",
    "        plt.bar(val_counts.index, val_counts)\n",
    "        avg_entropy += calc_entropy(val_counts)\n",
    "    plt.show()\n",
    "    print('Average entropy is %.4f' % (avg_entropy/10))"
   ]
  },
  {
   "cell_type": "code",
   "execution_count": 868,
   "metadata": {
    "collapsed": false,
    "scrolled": true
   },
   "outputs": [
    {
     "data": {
      "image/png": "[encoded data removed]",
      "text/plain": [
       "<matplotlib.figure.Figure at 0x110303630>"
      ]
     },
     "metadata": {},
     "output_type": "display_data"
    },
    {
     "name": "stdout",
     "output_type": "stream",
     "text": [
      "Average entropy is 1.5804\n"
     ]
    }
   ],
   "source": [
    "get_eval(kmeans_model)"
   ]
  },
  {
   "cell_type": "code",
   "execution_count": 869,
   "metadata": {
    "collapsed": false
   },
   "outputs": [
    {
     "data": {
      "image/png": "[encoded data removed]",
      "text/plain": [
       "<matplotlib.figure.Figure at 0x10f3ce0f0>"
      ]
     },
     "metadata": {},
     "output_type": "display_data"
    },
    {
     "name": "stdout",
     "output_type": "stream",
     "text": [
      "Average entropy is 1.4551\n"
     ]
    }
   ],
   "source": [
    "get_eval(hidden_kmeans)"
   ]
  },
  {
   "cell_type": "code",
   "execution_count": 866,
   "metadata": {
    "collapsed": false,
    "scrolled": true
   },
   "outputs": [
    {
     "data": {
      "image/png": "[encoded data removed]",
      "text/plain": [
       "<matplotlib.figure.Figure at 0x10fde2748>"
      ]
     },
     "metadata": {},
     "output_type": "display_data"
    },
    {
     "name": "stdout",
     "output_type": "stream",
     "text": [
      "Average entropy is 1.7948\n"
     ]
    }
   ],
   "source": [
    "from math import log2\n",
    "\n",
    "def calc_entropy(val_counts):\n",
    "    res = 0\n",
    "    n = val_counts.sum()\n",
    "    for v in val_counts:\n",
    "        res += -v/n * log2(v/n)\n",
    "    return res\n",
    "\n",
    "raw_labels = closest_centers_idx(forward_propagate_layer(weights, train_X_scaled, 3), centers[:, :-1])\n",
    "avg_entropy = 0\n",
    "for i in range(10):\n",
    "    val_counts = pd.Series(train_y_0)[raw_labels == i].value_counts()\n",
    "    plt.bar(val_counts.index, val_counts)\n",
    "    avg_entropy += calc_entropy(val_counts)\n",
    "plt.show()\n",
    "print('Average entropy is %.4f' % (avg_entropy/10))"
   ]
  },
  {
   "cell_type": "markdown",
   "metadata": {},
   "source": [
    "### Try TSNE\n",
    "* Much better performance"
   ]
  },
  {
   "cell_type": "code",
   "execution_count": 876,
   "metadata": {
    "collapsed": true
   },
   "outputs": [],
   "source": [
    "from sklearn.manifold import TSNE"
   ]
  },
  {
   "cell_type": "code",
   "execution_count": 887,
   "metadata": {
    "collapsed": false
   },
   "outputs": [
    {
     "data": {
      "text/plain": [
       "3567.1715908050537"
      ]
     },
     "execution_count": 887,
     "metadata": {},
     "output_type": "execute_result"
    }
   ],
   "source": [
    "tsne = TSNE()\n",
    "start = time()\n",
    "test_tsne = tsne.fit_transform(test_X_scaled)\n",
    "time()-start"
   ]
  },
  {
   "cell_type": "code",
   "execution_count": 888,
   "metadata": {
    "collapsed": false
   },
   "outputs": [
    {
     "data": {
      "text/plain": [
       "KMeans(algorithm='auto', copy_x=True, init='k-means++', max_iter=300,\n",
       "    n_clusters=10, n_init=10, n_jobs=1, precompute_distances='auto',\n",
       "    random_state=None, tol=0.0001, verbose=0)"
      ]
     },
     "execution_count": 888,
     "metadata": {},
     "output_type": "execute_result"
    }
   ],
   "source": [
    "tsne_kmeans = KMeans(n_clusters=10)\n",
    "tsne_kmeans.fit(test_tsne)"
   ]
  },
  {
   "cell_type": "code",
   "execution_count": 889,
   "metadata": {
    "collapsed": false
   },
   "outputs": [
    {
     "data": {
      "image/png": "[encoded data removed]",
      "text/plain": [
       "<matplotlib.figure.Figure at 0x10fd9ae10>"
      ]
     },
     "metadata": {},
     "output_type": "display_data"
    },
    {
     "name": "stdout",
     "output_type": "stream",
     "text": [
      "Average entropy is 0.7480\n"
     ]
    }
   ],
   "source": [
    "from math import log2\n",
    "\n",
    "def calc_entropy(val_counts):\n",
    "    res = 0\n",
    "    n = val_counts.sum()\n",
    "    for v in val_counts:\n",
    "        res += -v/n * log2(v/n)\n",
    "    return res\n",
    "\n",
    "raw_labels = tsne_kmeans.labels_\n",
    "avg_entropy = 0\n",
    "for i in range(10):\n",
    "    val_counts = pd.Series(test_y_0)[raw_labels == i].value_counts()\n",
    "    plt.bar(val_counts.index, val_counts)\n",
    "    avg_entropy += calc_entropy(val_counts)\n",
    "plt.show()\n",
    "print('Average entropy is %.4f' % (avg_entropy/10))"
   ]
  },
  {
   "cell_type": "markdown",
   "metadata": {},
   "source": [
    "### PCA"
   ]
  },
  {
   "cell_type": "code",
   "execution_count": 890,
   "metadata": {
    "collapsed": true
   },
   "outputs": [],
   "source": [
    "from sklearn.decomposition import PCA"
   ]
  },
  {
   "cell_type": "code",
   "execution_count": 904,
   "metadata": {
    "collapsed": true
   },
   "outputs": [],
   "source": [
    "pca = PCA(n_components=10)"
   ]
  },
  {
   "cell_type": "code",
   "execution_count": 905,
   "metadata": {
    "collapsed": false
   },
   "outputs": [],
   "source": [
    "pca_out = pca.fit_transform(test_X_scaled)"
   ]
  },
  {
   "cell_type": "code",
   "execution_count": 906,
   "metadata": {
    "collapsed": false
   },
   "outputs": [
    {
     "data": {
      "text/plain": [
       "KMeans(algorithm='auto', copy_x=True, init='k-means++', max_iter=300,\n",
       "    n_clusters=10, n_init=10, n_jobs=1, precompute_distances='auto',\n",
       "    random_state=None, tol=0.0001, verbose=0)"
      ]
     },
     "execution_count": 906,
     "metadata": {},
     "output_type": "execute_result"
    }
   ],
   "source": [
    "pca_kmeans = KMeans(n_clusters=10)\n",
    "pca_kmeans.fit(pca_out)"
   ]
  },
  {
   "cell_type": "code",
   "execution_count": 907,
   "metadata": {
    "collapsed": false
   },
   "outputs": [
    {
     "data": {
      "image/png": "[encoded data removed]",
      "text/plain": [
       "<matplotlib.figure.Figure at 0x110570fd0>"
      ]
     },
     "metadata": {},
     "output_type": "display_data"
    },
    {
     "name": "stdout",
     "output_type": "stream",
     "text": [
      "Average entropy is 1.6567\n"
     ]
    }
   ],
   "source": [
    "from math import log2\n",
    "\n",
    "def calc_entropy(val_counts):\n",
    "    res = 0\n",
    "    n = val_counts.sum()\n",
    "    for v in val_counts:\n",
    "        res += -v/n * log2(v/n)\n",
    "    return res\n",
    "\n",
    "raw_labels = pca_kmeans.labels_\n",
    "avg_entropy = 0\n",
    "for i in range(10):\n",
    "    val_counts = pd.Series(test_y_0)[raw_labels == i].value_counts()\n",
    "    plt.bar(val_counts.index, val_counts)\n",
    "    avg_entropy += calc_entropy(val_counts)\n",
    "plt.show()\n",
    "print('Average entropy is %.4f' % (avg_entropy/10))"
   ]
  }
 ],
 "metadata": {
  "anaconda-cloud": {},
  "kernelspec": {
   "display_name": "Python [Root]",
   "language": "python",
   "name": "Python [Root]"
  },
  "language_info": {
   "codemirror_mode": {
    "name": "ipython",
    "version": 3
   },
   "file_extension": ".py",
   "mimetype": "text/x-python",
   "name": "python",
   "nbconvert_exporter": "python",
   "pygments_lexer": "ipython3",
   "version": "3.5.2"
  }
 },
 "nbformat": 4,
 "nbformat_minor": 2
}
